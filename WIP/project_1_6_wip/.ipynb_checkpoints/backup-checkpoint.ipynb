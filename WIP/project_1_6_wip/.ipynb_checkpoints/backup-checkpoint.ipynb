{
 "cells": [
  {
   "cell_type": "markdown",
   "id": "cd11da2a",
   "metadata": {},
   "source": [
    "# Project 1, Part 6, Identifying Best Customers\n"
   ]
  },
  {
   "cell_type": "markdown",
   "id": "701f1c25",
   "metadata": {},
   "source": [
    "# 1.6 Ideas on how the sales data can be used to help identify best customers\n",
    "\n",
    "The data science team would like to know your best ideas on how the sales data can be used to help identify the company's best customers.\n",
    "\n",
    "\n",
    "\n",
    "They are going to start with the most common and most basic model known as RFM, which consists of the 3 dimensions.\n",
    "\n",
    "* R - Recency - How recently did the customer purchase?\n",
    "\n",
    "* F - Frequency - How often do they purchase?\n",
    "\n",
    "* M - Monetary Value - How much do they spend?\n",
    "\n",
    "\n",
    "\n",
    "At first glance, it's pretty easy to think of a simple query for each dimension.\n",
    "\n",
    "However, after some thought, it's not quite so easy. It's very open ended, with a lot of grey areas, and no single right or wrong answer (just like 99% of data science and AI!)  For each dimension, there can be some pretty complex ways to determine.\n",
    "\n",
    "The data science team also has to come up with a way to synthesize the 3 dimensions into a single customer value for each customer.\n",
    "\n",
    "\n",
    "\n",
    "The data science team would like for you to present your ideas in the form of a title and 4 paragraphs as follows:\n",
    "\n",
    "* Title - A title describing what you will be explaining\n",
    "\n",
    "* Recency - A brief paragraph explaining your ideas on how the data can be used to determine recency.  \n",
    "\n",
    "* Frequency - A brief paragraph explaining your ideas on how the data can be used to determine frequency.\n",
    "\n",
    "* Monetary Value - A brief paragraph explaining your ideas on how the data can be used to determine monetary value.\n",
    "\n",
    "* Synthesis - A brief paragraph explaining your ideas on how to synthesize the 3 dimensions of recency, frequency, and monetary value into a customer value for each customer and how to determine who the best customers are.\n",
    "\n",
    "\n",
    "\n",
    "Put the title and all 4 paragraphs in a single markdown cell.\n",
    "\n",
    "Note that you do not write code for this, only english language descriptions of your ideas.\n",
    "\n"
   ]
  },
  {
   "cell_type": "markdown",
   "id": "8ce38953",
   "metadata": {},
   "source": [
    "<h1 style='color: darkgreen'>Applying RFM Analysis to Identify Profitable Customers in Gourmet Retail</h1>\n",
    "\n",
    "<h3 style='color: blue'>Recency:</h3>\n",
    "\n",
    "<p>AGM can determine the date of each customer's most recent transaction by examining the sales table, which contains the fields sale_date and customer_id. Given AGM's operational considerations, defining 'recent' as a one-month period affords the organization sufficient time to leverage strategic planning insights from this data. It is possible to construct SQL queries that reveal the number of days since each customer's last purchase, providing valuable information for consumer re-engagement strategies.</p>\n",
    "\n",
    "<h3 style='color: blue'>Frequency:</h3>\n",
    "\n",
    "<p>AGM can determine the frequency of purchases by examining the sales database, which includes transaction information for each customer. In the context of AGM's business model, evaluating a customer's purchasing behavior over a one-month period would provide an accurate representation. In this situation, the importance of loyal customers becomes paramount. For example, a customer who purchases daily meals may contribute more to the business than a customer who orders infrequently, regardless of order size. The frequency of a customer's purchases can inform the development of customer loyalty programs and the scheduling of promotional offers and communications.</p>\n",
    "\n",
    "<h3 style='color: blue'>Monetary Value:</h3>\n",
    "\n",
    "<p>The sales table's total_amount field can be used to calculate the monetary value of each customer. In spite of the fact that AGM charges a flat rate of $12 per meal, converting this total to the number of meals purchased provides insight into consumer spending. It is important to note, however, that sales revenue alone does not provide a complete picture of a customer's profitability. To gain insight into profitability, additional information regarding the cost of products sold and operating expenses per customer is required. When combined with the revenue data, this information would provide a comprehension of the gross and net margins per customer, thereby revealing more about the profitability of each customer.</p>\n",
    "\n",
    "<h3 style='color: blue'>Synthesis:</h3>\n",
    "\n",
    "<p>After determining the Recency, Frequency, and Monetary (RFM) values, AGM can generate a holistic customer value score. This composite score can be determined by designating ranks to each RFM component and then calculating their weighted sum. Each component's weighting will depend on AGM's strategic priorities. For instance, if recent and frequent transactions are viewed as significant indicators of a customer's loyalty, these factors may be given greater weight. The overall RFM score would assist in identifying the customers who contribute considerably to AGM's profitability. The analysis could also account for consumers who purchase irregularly or opportunistically by incorporating their purchasing patterns. Adding clustering techniques or predictive modeling to this analysis could provide additional depth, enhancing AGM's comprehension of their customers and guiding their strategic decisions.</p>\n"
   ]
  },
  {
   "cell_type": "code",
   "execution_count": null,
   "id": "9a79af5a",
   "metadata": {},
   "outputs": [],
   "source": []
  }
 ],
 "metadata": {
  "kernelspec": {
   "display_name": "Python 3 (ipykernel)",
   "language": "python",
   "name": "python3"
  },
  "language_info": {
   "codemirror_mode": {
    "name": "ipython",
    "version": 3
   },
   "file_extension": ".py",
   "mimetype": "text/x-python",
   "name": "python",
   "nbconvert_exporter": "python",
   "pygments_lexer": "ipython3",
   "version": "3.9.7"
  }
 },
 "nbformat": 4,
 "nbformat_minor": 5
}
